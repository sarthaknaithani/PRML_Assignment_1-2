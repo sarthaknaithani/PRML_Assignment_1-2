{
 "cells": [
  {
   "cell_type": "code",
   "execution_count": 2,
   "id": "6de8e7ab-65cc-4cd8-884d-03b5002b6ca1",
   "metadata": {},
   "outputs": [
    {
     "data": {
      "image/png": "[encoded data removed]",
      "text/plain": [
       "<Figure size 432x288 with 1 Axes>"
      ]
     },
     "metadata": {
      "needs_background": "light"
     },
     "output_type": "display_data"
    }
   ],
   "source": [
    "import pandas as pd\n",
    "import numpy as np\n",
    "import matplotlib.pyplot as plt\n",
    "import random\n",
    "dataset=pd.read_csv('A2Q1.csv',header=None)\n",
    "data_array=np.array(dataset)\n",
    "z=np.zeros(shape=[400,1])\n",
    "error=[]\n",
    "c=0\n",
    "s=0\n",
    "for i in range(0,400):\n",
    "    z[i]=random.randint(0,3)\n",
    "mean_array=np.zeros(shape=[4,50])\n",
    "def calc_clustermean(k):\n",
    "    sum_z=np.zeros(shape=[1,50])\n",
    "    c=0\n",
    "    for i in range(0,400):\n",
    "        if(z[i]==k):\n",
    "            sum_z=sum_z+data_array[i]\n",
    "            c=c+1\n",
    "    z_mean=sum_z/c\n",
    "    return z_mean\n",
    "mean_array[0]=calc_clustermean(0)\n",
    "mean_array[1]=calc_clustermean(1)\n",
    "mean_array[2]=calc_clustermean(2)\n",
    "mean_array[3]=calc_clustermean(3)\n",
    "\n",
    "while True:\n",
    "    change=False\n",
    "    for i in range(0,400):\n",
    "        d0=np.linalg.norm(data_array[i]-mean_array[0])\n",
    "        d1=np.linalg.norm(data_array[i]-mean_array[1])\n",
    "        d2=np.linalg.norm(data_array[i]-mean_array[2])\n",
    "        d3=np.linalg.norm(data_array[i]-mean_array[3])\n",
    "        min_d=min(d0,d1,d2,d3)\n",
    "        if(min_d==d0):\n",
    "            cluster=0\n",
    "        if(min_d==d1):\n",
    "            cluster=1\n",
    "        if(min_d==d2):\n",
    "            cluster=2\n",
    "        if(min_d==d3):\n",
    "            cluster=3\n",
    "\n",
    "        if(z[i]==0):\n",
    "            if(min_d<np.linalg.norm(data_array[i]-mean_array[0])):\n",
    "                z[i]=cluster\n",
    "                mean_array[0]=calc_clustermean(0)\n",
    "                mean_array[1]=calc_clustermean(1)\n",
    "                mean_array[2]=calc_clustermean(2)\n",
    "                mean_array[3]=calc_clustermean(3)\n",
    "                s+=np.linalg.norm(data_array[i]-mean_array[0])\n",
    "                change=True\n",
    "        elif(z[i]==1):\n",
    "            if(min_d<np.linalg.norm(data_array[i]-mean_array[1])):\n",
    "                z[i]=cluster\n",
    "                mean_array[0]=calc_clustermean(0)\n",
    "                mean_array[1]=calc_clustermean(1)\n",
    "                mean_array[2]=calc_clustermean(2)\n",
    "                mean_array[3]=calc_clustermean(3)\n",
    "                s+=np.linalg.norm(data_array[i]-mean_array[1])\n",
    "                change=True\n",
    "        elif(z[i]==2):\n",
    "            if(min_d<np.linalg.norm(data_array[i]-mean_array[2])):\n",
    "                z[i]=cluster\n",
    "                mean_array[0]=calc_clustermean(0)\n",
    "                mean_array[1]=calc_clustermean(1)\n",
    "                mean_array[2]=calc_clustermean(2)\n",
    "                mean_array[3]=calc_clustermean(3)\n",
    "                s+=np.linalg.norm(data_array[i]-mean_array[2])\n",
    "                change=True\n",
    "        else:\n",
    "            if(min_d<np.linalg.norm(data_array[i]-mean_array[3])):\n",
    "                z[i]=cluster\n",
    "                mean_array[0]=calc_clustermean(0)\n",
    "                mean_array[1]=calc_clustermean(1)\n",
    "                mean_array[2]=calc_clustermean(2)\n",
    "                mean_array[3]=calc_clustermean(3)\n",
    "                s+=np.linalg.norm(data_array[i]-mean_array[3])\n",
    "                change=True\n",
    "    if(change==False):\n",
    "        break\n",
    "    error.append(s)\n",
    "    s=0\n",
    "plt.title(\"Error Function w.r.t Iterations\")\n",
    "plt.xlabel(\"xvalues\")\n",
    "plt.ylabel(\"yvalues\")\n",
    "error=np.array(error)\n",
    "plt.plot(error)\n",
    "plt.show()"
   ]
  },
  {
   "cell_type": "code",
   "execution_count": null,
   "id": "a69cabcb-005a-40a1-b2f6-2b8095c0e89a",
   "metadata": {},
   "outputs": [],
   "source": []
  },
  {
   "cell_type": "code",
   "execution_count": null,
   "id": "035c6995-d510-4b3f-9970-cbd61d1cea31",
   "metadata": {},
   "outputs": [],
   "source": []
  },
  {
   "cell_type": "code",
   "execution_count": null,
   "id": "a12ca1b9-f276-46e8-9ca8-40b254ff1694",
   "metadata": {},
   "outputs": [],
   "source": []
  }
 ],
 "metadata": {
  "kernelspec": {
   "display_name": "Python 3.10.6 64-bit",
   "language": "python",
   "name": "python3"
  },
  "language_info": {
   "codemirror_mode": {
    "name": "ipython",
    "version": 3
   },
   "file_extension": ".py",
   "mimetype": "text/x-python",
   "name": "python",
   "nbconvert_exporter": "python",
   "pygments_lexer": "ipython3",
   "version": "3.10.6"
  },
  "vscode": {
   "interpreter": {
    "hash": "f029a96fcde925865f209d04c046aca0c9550919b0e4a2b27b2863cc9a9c3f3e"
   }
  }
 },
 "nbformat": 4,
 "nbformat_minor": 5
}
