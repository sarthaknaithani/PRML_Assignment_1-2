{
 "cells": [
  {
   "cell_type": "code",
   "execution_count": 1,
   "id": "747c71d7-3fd9-484f-99c1-3a740ab939e7",
   "metadata": {},
   "outputs": [
    {
     "name": "stdout",
     "output_type": "stream",
     "text": [
      "[-7.84961009e-03 -1.36715320e-02 -3.61656438e-03  2.64909160e-03\n",
      "  1.88551446e-01  2.65314657e-03  9.46531786e-03  1.79809481e-01\n",
      "  3.73757317e-03  4.99608944e-01  8.35836265e-03  4.29108775e-03\n",
      "  1.42141179e-02  3.94232414e-03  9.36795890e-03 -1.12038274e-03\n",
      "  3.35727500e-03  1.16152212e-03 -9.40884707e-03 -2.45575476e-03\n",
      " -1.17409629e-02 -1.01960612e-02  7.95771321e-03 -1.00574854e-02\n",
      "  6.04882939e-03 -4.67345192e-03 -3.09091547e-03  8.14909193e-03\n",
      "  1.20264599e-02 -6.82458163e-03 -8.65405539e-03  9.86273479e-04\n",
      "  4.92968011e-03  5.99772461e-03 -1.34667860e-02  1.07075729e-03\n",
      "  1.32745992e-02 -1.14148742e-02 -2.01056697e-02  5.85096240e-01\n",
      "  4.94483247e-04 -7.86666920e-04 -2.71926574e-03 -9.54021938e-03\n",
      " -5.44161058e-03  9.80679209e-03 -6.72540624e-03 -4.45414276e-04\n",
      "  6.98516508e-03  3.16138907e-02  4.51763485e-01 -8.75221380e-03\n",
      "  2.55167390e-03  4.24921150e-03  2.89847927e-01  7.03723255e-03\n",
      " -1.95796946e-03  1.41523883e-02 -1.06508170e-02  7.72743903e-01\n",
      " -5.67126044e-03 -6.30026188e-04  6.50943015e-03 -4.84019165e-03\n",
      "  4.63832329e-03  4.54887177e-03 -2.99475114e-03  8.38781696e-03\n",
      " -2.47558716e-03  9.00947922e-04  1.14713514e-03 -1.87641345e-03\n",
      " -1.05175760e-02 -9.31304110e-03 -1.23550002e-03  5.97797559e-01\n",
      " -4.78625013e-03 -1.13727852e-02  2.88477060e-03  8.48999776e-01\n",
      " -1.08924235e-02  2.26346489e-03 -1.38099800e-03 -6.35934691e-03\n",
      "  5.83784109e-03  5.69286755e-03  5.35566859e-03 -8.20616315e-03\n",
      "  1.29884015e-02 -2.30575631e-03 -1.22263765e-04  8.66629171e-03\n",
      " -4.29446300e-03  5.69510898e-03  7.55483353e-03 -9.43540843e-03\n",
      "  1.82905446e-02 -1.16998887e-03 -2.61599136e-03 -8.58616114e-03]\n",
      "185.36365558489518\n"
     ]
    }
   ],
   "source": [
    "import pandas as pd\n",
    "import numpy as np\n",
    "import matplotlib.pyplot as plt\n",
    "import random\n",
    "dataframe=pd.read_csv('D:\\PRML Assignment 2\\PRML Assignment 2\\A2Q2Data_train.csv',header=None)\n",
    "arr=dataframe.to_numpy()\n",
    "y=arr[:,100]\n",
    "x_trans=arr[:,0:100]\n",
    "x=x_trans.transpose()\n",
    "a=np.dot(x,x_trans)\n",
    "a=np.linalg.inv(a)\n",
    "w=np.dot(a,x)\n",
    "w=np.dot(w,y)\n",
    "dataframe_test=pd.read_csv('D:\\PRML Assignment 2\\PRML Assignment 2\\A2Q2Data_test.csv',header=None)\n",
    "arr_test=dataframe_test.to_numpy()\n",
    "x_test=arr_test[:,0:100]\n",
    "x_test=x_test.transpose()\n",
    "y_pred=np.dot(w.transpose(),x_test)\n",
    "y_test=arr_test[:,100]\n",
    "print(w)\n",
    "print(np.sum(np.power(y_test-y_pred,2))) ## least square error"
   ]
  },
  {
   "cell_type": "code",
   "execution_count": null,
   "id": "bf50f493-03dd-4898-a59a-a8f11612e5d1",
   "metadata": {},
   "outputs": [],
   "source": []
  }
 ],
 "metadata": {
  "kernelspec": {
   "display_name": "Python 3.10.6 64-bit",
   "language": "python",
   "name": "python3"
  },
  "language_info": {
   "codemirror_mode": {
    "name": "ipython",
    "version": 3
   },
   "file_extension": ".py",
   "mimetype": "text/x-python",
   "name": "python",
   "nbconvert_exporter": "python",
   "pygments_lexer": "ipython3",
   "version": "3.10.6"
  },
  "vscode": {
   "interpreter": {
    "hash": "f029a96fcde925865f209d04c046aca0c9550919b0e4a2b27b2863cc9a9c3f3e"
   }
  }
 },
 "nbformat": 4,
 "nbformat_minor": 5
}
