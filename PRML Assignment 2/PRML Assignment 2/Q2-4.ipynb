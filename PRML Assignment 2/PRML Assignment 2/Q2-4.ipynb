{
 "cells": [
  {
   "cell_type": "code",
   "execution_count": 1,
   "id": "aee35a54-a4ea-429d-8062-0b714e8e9825",
   "metadata": {},
   "outputs": [
    {
     "data": {
      "image/png": "[encoded data removed]",
      "text/plain": [
       "<Figure size 432x288 with 1 Axes>"
      ]
     },
     "metadata": {
      "needs_background": "light"
     },
     "output_type": "display_data"
    },
    {
     "name": "stdout",
     "output_type": "stream",
     "text": [
      "8\n"
     ]
    }
   ],
   "source": [
    "import pandas as pd\n",
    "import numpy as np\n",
    "import matplotlib.pyplot as plt\n",
    "import random\n",
    "dataframe=pd.read_csv('D:\\PRML Assignment 2\\PRML Assignment 2\\A2Q2Data_train.csv',header=None)\n",
    "arr=dataframe.to_numpy()\n",
    "#calculating gradient for ridge regression\n",
    "def calc_ridge_grad(lmda,xxt,w,xy):\n",
    "    return (2*np.dot(xxt,w)-2*xy)+2*w*lmda\n",
    "def calc_error_y(x,w,y):\n",
    "    y_pred=np.dot(w.transpose(),x)\n",
    "    return round(np.sum(np.power(y-y_pred,2)),2)\n",
    "    \n",
    "train=arr[:8000]\n",
    "train_xt=train[:,0:100]\n",
    "train_x=train_xt.transpose()\n",
    "train_yt=train[:,100]\n",
    "train_y=train_yt.transpose()\n",
    "validation=arr[8000:]\n",
    "validation_xt=validation[:,0:100]\n",
    "validation_x=np.transpose(validation_xt)\n",
    "validation_y=np.transpose(validation[:,100])\n",
    "xxt=np.dot(train_x,train_xt)\n",
    "l_values=[]\n",
    "l=[]\n",
    "e=[]\n",
    "# l_values=np.linalg.eigvals(xxt)\n",
    "for i in range(0,100):\n",
    "    l_values.append(i)\n",
    "# i=0.0\n",
    "# while(i<=10.0):\n",
    "#     l_values.append(i)\n",
    "#     i+=1\n",
    "# print(l_values)\n",
    "# l=np.random.random()\n",
    "wr_prev=np.random.random(100)\n",
    "xy=np.dot(train_x,train_y)\n",
    "min_error=1000000\n",
    "lmda_min=1000000\n",
    "eta=1/300000\n",
    "for i in range(1,len(l_values)):\n",
    "    lmda=l_values[i]\n",
    "    diff=999\n",
    "    wr_prev=np.random.random(100)\n",
    "    error1=0\n",
    "    while(diff>0.001):\n",
    "        wr_curr=wr_prev-eta*calc_ridge_grad(lmda,xxt,wr_prev,xy)\n",
    "        error2=error1\n",
    "        error1=calc_error_y(train_x,wr_prev,train_y)\n",
    "        diff=abs(error1-error2)\n",
    "        wr_prev=wr_curr\n",
    "    validation_y_pred=np.dot(wr_curr.transpose(),validation_x)\n",
    "    error=np.sum(np.power(validation_y-validation_y_pred,2))\n",
    "    # print(error,lmda)\n",
    "    l.append(lmda)\n",
    "    e.append(error)\n",
    "    if(error<min_error):\n",
    "        min_error=error\n",
    "        lmda_min=lmda\n",
    "        w_r=wr_curr\n",
    "plt.plot(l,e)\n",
    "plt.title(\"MSE vs Iterations Plot\" )\n",
    "plt.xlabel(\"Iterations\")\n",
    "plt.ylabel(\"MSE\")\n",
    "plt.show()\n",
    "print(lmda_min)"
   ]
  },
  {
   "cell_type": "code",
   "execution_count": null,
   "id": "2a470ba6-70ae-45df-9c73-e5efb9227f98",
   "metadata": {},
   "outputs": [],
   "source": []
  }
 ],
 "metadata": {
  "kernelspec": {
   "display_name": "Python 3.10.6 64-bit",
   "language": "python",
   "name": "python3"
  },
  "language_info": {
   "codemirror_mode": {
    "name": "ipython",
    "version": 3
   },
   "file_extension": ".py",
   "mimetype": "text/x-python",
   "name": "python",
   "nbconvert_exporter": "python",
   "pygments_lexer": "ipython3",
   "version": "3.10.6"
  },
  "vscode": {
   "interpreter": {
    "hash": "f029a96fcde925865f209d04c046aca0c9550919b0e4a2b27b2863cc9a9c3f3e"
   }
  }
 },
 "nbformat": 4,
 "nbformat_minor": 5
}
