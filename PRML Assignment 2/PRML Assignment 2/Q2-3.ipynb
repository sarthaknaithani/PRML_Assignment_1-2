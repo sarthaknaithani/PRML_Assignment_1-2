{
 "cells": [
  {
   "cell_type": "code",
   "execution_count": 1,
   "id": "f9d72a5c-fe10-4dc2-85b0-70a044ecd590",
   "metadata": {},
   "outputs": [
    {
     "name": "stdout",
     "output_type": "stream",
     "text": [
      "191.19359487561843\n"
     ]
    },
    {
     "data": {
      "image/png": "[encoded data removed]",
      "text/plain": [
       "<Figure size 432x288 with 1 Axes>"
      ]
     },
     "metadata": {
      "needs_background": "light"
     },
     "output_type": "display_data"
    }
   ],
   "source": [
    "import pandas as pd\n",
    "import numpy as np\n",
    "import matplotlib.pyplot as plt\n",
    "import random\n",
    "dataframe=pd.read_csv('D:\\PRML Assignment 2\\PRML Assignment 2\\A2Q2Data_train.csv',header=None)\n",
    "arr=dataframe.to_numpy()\n",
    "y=arr[:,100]\n",
    "x_trans=arr[:,0:100]\n",
    "x=x_trans.transpose()\n",
    "a=np.dot(x,x_trans)\n",
    "a=np.linalg.inv(a)\n",
    "w=np.dot(a,x)\n",
    "w=np.dot(w,y)\n",
    "n=0.0000039\n",
    "dataframe_test=pd.read_csv('D:\\PRML Assignment 2\\PRML Assignment 2\\A2Q2Data_test.csv',header=None)\n",
    "arr_test=dataframe_test.to_numpy()\n",
    "x_test=arr_test[:,0:100]\n",
    "x_test=x_test.transpose()\n",
    "y_pred=np.dot(w.transpose(),x_test)\n",
    "y_test=arr_test[:,100]\n",
    "def calc_error_y(x,w,y):\n",
    "    y_pred=np.dot(w.transpose(),x)\n",
    "    return round(np.sum(np.power(y-y_pred,2)),2)\n",
    "d_s=[]\n",
    "w_array=[]\n",
    "w_s0=np.random.random(100)\n",
    "w_curr=w_s0\n",
    "for i in range(0,100):\n",
    "    index=np.random.randint(10000,size=100)\n",
    "    arr_temp=arr[index,:]\n",
    "    x_temp_trans=arr_temp[:,0:100]\n",
    "    x_temp=x_temp_trans.transpose()\n",
    "    y_temp=arr_temp[:,100]\n",
    "    xxt_temp=np.dot(x_temp,x_temp_trans)\n",
    "    error1=0\n",
    "    diff=999\n",
    "    while(diff>0.00001):\n",
    "        grad=2*np.dot(xxt_temp,w_curr)-2*np.dot(x_temp,y_temp)\n",
    "        w_prev=w_curr;\n",
    "        w_curr=w_prev-n*(grad)\n",
    "        m=np.linalg.norm(w-w_curr)\n",
    "        error2=error1\n",
    "        error1=calc_error_y(x_temp,w_prev,y_temp) \n",
    "        diff=abs(error1-error2)\n",
    "    d_s.append(m)\n",
    "    w_array.append(w_curr)\n",
    "w_array=np.array(w_array)\n",
    "w_sgd=w_array.sum(axis=0)/100\n",
    "y_p_sgd=np.dot(w_sgd.transpose(),x_test)\n",
    "print(np.sum(np.power(y_test-y_p_sgd,2)))\n",
    "# print(m)\n",
    "plt.xlabel(\"Iterations\")\n",
    "plt.ylabel(\"Error\")\n",
    "plt.plot(d_s)\n",
    "plt.show()"
   ]
  },
  {
   "cell_type": "code",
   "execution_count": null,
   "id": "fba08da2-50e9-42f4-b016-81350d73b3b6",
   "metadata": {},
   "outputs": [],
   "source": []
  }
 ],
 "metadata": {
  "kernelspec": {
   "display_name": "Python 3.10.6 64-bit",
   "language": "python",
   "name": "python3"
  },
  "language_info": {
   "codemirror_mode": {
    "name": "ipython",
    "version": 3
   },
   "file_extension": ".py",
   "mimetype": "text/x-python",
   "name": "python",
   "nbconvert_exporter": "python",
   "pygments_lexer": "ipython3",
   "version": "3.10.6"
  },
  "vscode": {
   "interpreter": {
    "hash": "f029a96fcde925865f209d04c046aca0c9550919b0e4a2b27b2863cc9a9c3f3e"
   }
  }
 },
 "nbformat": 4,
 "nbformat_minor": 5
}
