{
 "cells": [
  {
   "cell_type": "code",
   "execution_count": 6,
   "id": "cd038445-41f2-4146-8278-f211875b415e",
   "metadata": {},
   "outputs": [
    {
     "name": "stdout",
     "output_type": "stream",
     "text": [
      "185.2252\n"
     ]
    },
    {
     "data": {
      "image/png": "[encoded data removed]",
      "text/plain": [
       "<Figure size 432x288 with 1 Axes>"
      ]
     },
     "metadata": {
      "needs_background": "light"
     },
     "output_type": "display_data"
    }
   ],
   "source": [
    "import pandas as pd\n",
    "import numpy as np\n",
    "import matplotlib.pyplot as plt\n",
    "import random\n",
    "dataframe=pd.read_csv('A2Q2Data_train.csv',header=None)\n",
    "arr=dataframe.to_numpy()\n",
    "y=arr[:,100]\n",
    "x_trans=arr[:,0:100]\n",
    "x=x_trans.transpose()\n",
    "a=np.dot(x,x_trans)\n",
    "a=np.linalg.inv(a)\n",
    "w=np.dot(a,x)\n",
    "w=np.dot(w,y)\n",
    "dataframe_test=pd.read_csv('A2Q2Data_test.csv',header=None)\n",
    "arr_test=dataframe_test.to_numpy()\n",
    "x_test=arr_test[:,0:100]\n",
    "x_test=x_test.transpose()\n",
    "y_pred=np.dot(w.transpose(),x_test)\n",
    "y_test=arr_test[:,100]\n",
    "w0=np.random.random(100)\n",
    "n=0.0000039\n",
    "error=0\n",
    "error1=1\n",
    "w1=w0\n",
    "d=[]\n",
    "t=[]\n",
    "xxt=np.dot(x,x_trans)\n",
    "while(error1!=error):\n",
    "    grad=2*np.dot(xxt,w1)-2*np.dot(x,y)\n",
    "    w1=w1-n*(grad)\n",
    "    m=(np.linalg.norm(w-w1))\n",
    "    d.append(m)\n",
    "    y_p=np.dot(w1.transpose(),x)\n",
    "    error=error1\n",
    "    error1=round(np.sum(np.power(y-y_p,2)),4)\n",
    "y_p=np.dot(w1.transpose(),x_test)\n",
    "print(round(np.sum(np.power(y_test-y_p,2)),4))\n",
    "plt.xlabel(\"Iterations\")\n",
    "plt.ylabel(\"Error\")\n",
    "plt.plot(d)\n",
    "plt.show()"
   ]
  },
  {
   "cell_type": "markdown",
   "id": "35eaebd1-ec64-4abd-80d0-cc63ad92403d",
   "metadata": {},
   "source": []
  }
 ],
 "metadata": {
  "kernelspec": {
   "display_name": "Python 3.10.6 64-bit",
   "language": "python",
   "name": "python3"
  },
  "language_info": {
   "codemirror_mode": {
    "name": "ipython",
    "version": 3
   },
   "file_extension": ".py",
   "mimetype": "text/x-python",
   "name": "python",
   "nbconvert_exporter": "python",
   "pygments_lexer": "ipython3",
   "version": "3.10.6"
  },
  "vscode": {
   "interpreter": {
    "hash": "f029a96fcde925865f209d04c046aca0c9550919b0e4a2b27b2863cc9a9c3f3e"
   }
  }
 },
 "nbformat": 4,
 "nbformat_minor": 5
}
