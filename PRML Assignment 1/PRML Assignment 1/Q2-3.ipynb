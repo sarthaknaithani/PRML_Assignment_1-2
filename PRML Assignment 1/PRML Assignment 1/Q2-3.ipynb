{
 "cells": [
  {
   "cell_type": "code",
   "execution_count": 2,
   "id": "4a609ab8-36f0-46e0-9cf5-b88a7651ebc5",
   "metadata": {},
   "outputs": [],
   "source": [
    "import pandas as pd\n",
    "import numpy as np\n",
    "import sys\n",
    "import random\n",
    "import warnings\n",
    "warnings.filterwarnings('ignore')\n",
    "import matplotlib.pyplot as plt\n",
    "dataset=pd.read_csv('Dataset.csv',header=None,names=['x','y'])\n",
    "data_array=np.array(dataset)"
   ]
  },
  {
   "cell_type": "code",
   "execution_count": 3,
   "id": "a88f1798-28d4-4dd3-85b7-7990aac6e966",
   "metadata": {},
   "outputs": [],
   "source": [
    "def comp(x):\n",
    "    return x[0]\n",
    "def K(a,b,d):\n",
    "    return(1+np.dot(a,b.transpose()))**d\n",
    "def eigvalvec(kernal_matrix): \n",
    "    p=[]\n",
    "    Beta_val,Beta_vec=np.linalg.eig(kernal_matrix)\n",
    "    Beta_vec = Beta_vec.transpose()\n",
    "    for i in range(0,1000):\n",
    "        temp=[Beta_val[i],Beta_vec[i]]\n",
    "        p.append(temp)\n",
    "    p.sort(reverse=True,key=comp)\n",
    "    return p"
   ]
  },
  {
   "cell_type": "code",
   "execution_count": 4,
   "id": "c1300836-5d2b-41ed-990c-bce0590d2be2",
   "metadata": {},
   "outputs": [],
   "source": [
    "kernal_matrix=np.zeros(shape=(1000,1000))\n",
    "for i in range(0,1000):\n",
    "    for j in range(0,1000):\n",
    "        kernal_matrix[i][j]=K(data_array[i],data_array[j],2)\n",
    "def kernal_matrix_centering(km):\n",
    "    mat_one=np.ones(shape=(1000,1000))\n",
    "    I=np.identity(1000)\n",
    "    mat_one=mat_one/1000\n",
    "    diff=I-mat_one\n",
    "    temp=np.dot(diff,km)\n",
    "    kernal_matrix=np.dot(temp,diff)\n",
    "    return kernal_matrix\n",
    "kernal_matrix=kernal_matrix_centering(kernal_matrix)\n",
    "p=eigvalvec(kernal_matrix)\n",
    "top_eig=np.zeros(shape=(4,1000))\n",
    "for i in range(0,4):\n",
    "    top_eig[i]=p[i][1]\n",
    "top_eig=top_eig.transpose()\n",
    "for i in range(1000):\n",
    "    top_eig[i]=top_eig[i]/np.linalg.norm(top_eig[i])"
   ]
  },
  {
   "cell_type": "code",
   "execution_count": 5,
   "id": "56d7694f-421f-4109-a238-1c0973430b8c",
   "metadata": {},
   "outputs": [
    {
     "data": {
      "image/png": "[encoded data removed]",
      "text/plain": [
       "<Figure size 432x288 with 1 Axes>"
      ]
     },
     "metadata": {
      "needs_background": "light"
     },
     "output_type": "display_data"
    }
   ],
   "source": [
    "z=np.zeros(shape=[1000,1])\n",
    "for i in range(0,1000):\n",
    "    z[i]=random.randint(0,3)\n",
    "mean_array=np.zeros(shape=[4,4])\n",
    "def calc_clustermean(k):\n",
    "    sum_z=np.zeros(shape=(4))\n",
    "    c=0\n",
    "    for i in range(0,1000):\n",
    "        if(z[i]==k):\n",
    "            sum_z=sum_z+top_eig[i]\n",
    "            c=c+1\n",
    "    z_mean=sum_z/c\n",
    "    return z_mean\n",
    "mean_array[0]=calc_clustermean(0)\n",
    "mean_array[1]=calc_clustermean(1)\n",
    "mean_array[2]=calc_clustermean(2)\n",
    "mean_array[3]=calc_clustermean(3)\n",
    "\n",
    "while True:\n",
    "    change=False\n",
    "    for i in range(0,1000):\n",
    "        d0=np.linalg.norm(top_eig[i]-mean_array[0])\n",
    "        d1=np.linalg.norm(top_eig[i]-mean_array[1])\n",
    "        d2=np.linalg.norm(top_eig[i]-mean_array[2])\n",
    "        d3=np.linalg.norm(top_eig[i]-mean_array[3])\n",
    "        min_d=min(d0,d1,d2,d3)\n",
    "        if(min_d==d0):\n",
    "            cluster=0\n",
    "        if(min_d==d1):\n",
    "            cluster=1\n",
    "        if(min_d==d2):\n",
    "            cluster=2\n",
    "        if(min_d==d3):\n",
    "            cluster=3\n",
    "\n",
    "        if(z[i]==0):\n",
    "            if(min_d<np.linalg.norm(top_eig[i]-mean_array[0])):\n",
    "                z[i]=cluster\n",
    "                mean_array[0]=calc_clustermean(0)\n",
    "                mean_array[1]=calc_clustermean(1)\n",
    "                mean_array[2]=calc_clustermean(2)\n",
    "                mean_array[3]=calc_clustermean(3)\n",
    "                change=True\n",
    "        elif(z[i]==1):\n",
    "            if(min_d<np.linalg.norm(top_eig[i]-mean_array[1])):\n",
    "                z[i]=cluster\n",
    "                mean_array[0]=calc_clustermean(0)\n",
    "                mean_array[1]=calc_clustermean(1)\n",
    "                mean_array[2]=calc_clustermean(2)\n",
    "                mean_array[3]=calc_clustermean(3)\n",
    "                change=True\n",
    "        elif(z[i]==2):\n",
    "            if(min_d<np.linalg.norm(top_eig[i]-mean_array[2])):\n",
    "                z[i]=cluster\n",
    "                mean_array[0]=calc_clustermean(0)\n",
    "                mean_array[1]=calc_clustermean(1)\n",
    "                mean_array[2]=calc_clustermean(2)\n",
    "                mean_array[3]=calc_clustermean(3)\n",
    "                change=True\n",
    "        else:\n",
    "            if(min_d<np.linalg.norm(top_eig[i]-mean_array[3])):\n",
    "                z[i]=cluster\n",
    "                mean_array[0]=calc_clustermean(0)\n",
    "                mean_array[1]=calc_clustermean(1)\n",
    "                mean_array[2]=calc_clustermean(2)\n",
    "                mean_array[3]=calc_clustermean(3)\n",
    "                change=True\n",
    "    if(change==False):\n",
    "        break\n",
    "import matplotlib.colors as mcolors\n",
    "for i in range(0,1000):\n",
    "    if(z[i]==0):\n",
    "        plt.scatter(data_array[i][0],data_array[i][1],c='r')\n",
    "    if(z[i]==1):\n",
    "        plt.scatter(data_array[i][0],data_array[i][1],c='b')\n",
    "    if(z[i]==2):\n",
    "        plt.scatter(data_array[i][0],data_array[i][1],c='g')\n",
    "    if(z[i]==3):\n",
    "        plt.scatter(data_array[i][0],data_array[i][1],c='y')\n",
    "plt.title(\"Clustered data\")\n",
    "plt.xlabel(\"xvalues\")\n",
    "plt.ylabel(\"yvalues\")\n",
    "plt.show()"
   ]
  }
 ],
 "metadata": {
  "kernelspec": {
   "display_name": "Python 3.10.6 64-bit",
   "language": "python",
   "name": "python3"
  },
  "language_info": {
   "codemirror_mode": {
    "name": "ipython",
    "version": 3
   },
   "file_extension": ".py",
   "mimetype": "text/x-python",
   "name": "python",
   "nbconvert_exporter": "python",
   "pygments_lexer": "ipython3",
   "version": "3.10.6"
  },
  "vscode": {
   "interpreter": {
    "hash": "f029a96fcde925865f209d04c046aca0c9550919b0e4a2b27b2863cc9a9c3f3e"
   }
  }
 },
 "nbformat": 4,
 "nbformat_minor": 5
}
